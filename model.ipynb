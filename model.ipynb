{
 "cells": [
  {
   "cell_type": "code",
   "execution_count": 1,
   "metadata": {
    "collapsed": true
   },
   "outputs": [
    {
     "data": {
      "text/plain": "    YearsExperience    Salary\n0               1.1   39343.0\n1               1.3   46205.0\n2               1.5   37731.0\n3               2.0   43525.0\n4               2.2   39891.0\n5               2.9   56642.0\n6               3.0   60150.0\n7               3.2   54445.0\n8               3.2   64445.0\n9               3.7   57189.0\n10              3.9   63218.0\n11              4.0   55794.0\n12              4.0   56957.0\n13              4.1   57081.0\n14              4.5   61111.0\n15              4.9   67938.0\n16              5.1   66029.0\n17              5.3   83088.0\n18              5.9   81363.0\n19              6.0   93940.0\n20              6.8   91738.0\n21              7.1   98273.0\n22              7.9  101302.0\n23              8.2  113812.0\n24              8.7  109431.0\n25              9.0  105582.0\n26              9.5  116969.0\n27              9.6  112635.0\n28             10.3  122391.0\n29             10.5  121872.0",
      "text/html": "<div>\n<style scoped>\n    .dataframe tbody tr th:only-of-type {\n        vertical-align: middle;\n    }\n\n    .dataframe tbody tr th {\n        vertical-align: top;\n    }\n\n    .dataframe thead th {\n        text-align: right;\n    }\n</style>\n<table border=\"1\" class=\"dataframe\">\n  <thead>\n    <tr style=\"text-align: right;\">\n      <th></th>\n      <th>YearsExperience</th>\n      <th>Salary</th>\n    </tr>\n  </thead>\n  <tbody>\n    <tr>\n      <th>0</th>\n      <td>1.1</td>\n      <td>39343.0</td>\n    </tr>\n    <tr>\n      <th>1</th>\n      <td>1.3</td>\n      <td>46205.0</td>\n    </tr>\n    <tr>\n      <th>2</th>\n      <td>1.5</td>\n      <td>37731.0</td>\n    </tr>\n    <tr>\n      <th>3</th>\n      <td>2.0</td>\n      <td>43525.0</td>\n    </tr>\n    <tr>\n      <th>4</th>\n      <td>2.2</td>\n      <td>39891.0</td>\n    </tr>\n    <tr>\n      <th>5</th>\n      <td>2.9</td>\n      <td>56642.0</td>\n    </tr>\n    <tr>\n      <th>6</th>\n      <td>3.0</td>\n      <td>60150.0</td>\n    </tr>\n    <tr>\n      <th>7</th>\n      <td>3.2</td>\n      <td>54445.0</td>\n    </tr>\n    <tr>\n      <th>8</th>\n      <td>3.2</td>\n      <td>64445.0</td>\n    </tr>\n    <tr>\n      <th>9</th>\n      <td>3.7</td>\n      <td>57189.0</td>\n    </tr>\n    <tr>\n      <th>10</th>\n      <td>3.9</td>\n      <td>63218.0</td>\n    </tr>\n    <tr>\n      <th>11</th>\n      <td>4.0</td>\n      <td>55794.0</td>\n    </tr>\n    <tr>\n      <th>12</th>\n      <td>4.0</td>\n      <td>56957.0</td>\n    </tr>\n    <tr>\n      <th>13</th>\n      <td>4.1</td>\n      <td>57081.0</td>\n    </tr>\n    <tr>\n      <th>14</th>\n      <td>4.5</td>\n      <td>61111.0</td>\n    </tr>\n    <tr>\n      <th>15</th>\n      <td>4.9</td>\n      <td>67938.0</td>\n    </tr>\n    <tr>\n      <th>16</th>\n      <td>5.1</td>\n      <td>66029.0</td>\n    </tr>\n    <tr>\n      <th>17</th>\n      <td>5.3</td>\n      <td>83088.0</td>\n    </tr>\n    <tr>\n      <th>18</th>\n      <td>5.9</td>\n      <td>81363.0</td>\n    </tr>\n    <tr>\n      <th>19</th>\n      <td>6.0</td>\n      <td>93940.0</td>\n    </tr>\n    <tr>\n      <th>20</th>\n      <td>6.8</td>\n      <td>91738.0</td>\n    </tr>\n    <tr>\n      <th>21</th>\n      <td>7.1</td>\n      <td>98273.0</td>\n    </tr>\n    <tr>\n      <th>22</th>\n      <td>7.9</td>\n      <td>101302.0</td>\n    </tr>\n    <tr>\n      <th>23</th>\n      <td>8.2</td>\n      <td>113812.0</td>\n    </tr>\n    <tr>\n      <th>24</th>\n      <td>8.7</td>\n      <td>109431.0</td>\n    </tr>\n    <tr>\n      <th>25</th>\n      <td>9.0</td>\n      <td>105582.0</td>\n    </tr>\n    <tr>\n      <th>26</th>\n      <td>9.5</td>\n      <td>116969.0</td>\n    </tr>\n    <tr>\n      <th>27</th>\n      <td>9.6</td>\n      <td>112635.0</td>\n    </tr>\n    <tr>\n      <th>28</th>\n      <td>10.3</td>\n      <td>122391.0</td>\n    </tr>\n    <tr>\n      <th>29</th>\n      <td>10.5</td>\n      <td>121872.0</td>\n    </tr>\n  </tbody>\n</table>\n</div>"
     },
     "execution_count": 1,
     "metadata": {},
     "output_type": "execute_result"
    }
   ],
   "source": [
    "import pandas as pd\n",
    "import mlflow\n",
    "\n",
    "df = pd.read_csv(\"Salary_Data.csv\")\n",
    "df"
   ]
  },
  {
   "cell_type": "code",
   "execution_count": 2,
   "outputs": [
    {
     "data": {
      "text/plain": "    YearsExperience    Salary\n0               1.1   39343.0\n1               1.3   46205.0\n2               1.5   37731.0\n3               2.0   43525.0\n4               2.2   39891.0\n5               2.9   56642.0\n6               3.0   60150.0\n7               3.2   54445.0\n8               3.2   64445.0\n9               3.7   57189.0\n10              3.9   63218.0\n11              4.0   55794.0\n12              4.0   56957.0\n13              4.1   57081.0\n14              4.5   61111.0\n15              4.9   67938.0\n16              5.1   66029.0\n17              5.3   83088.0\n18              5.9   81363.0\n19              6.0   93940.0\n20              6.8   91738.0\n21              7.1   98273.0\n22              7.9  101302.0\n23              8.2  113812.0\n24              8.7  109431.0\n25              9.0  105582.0\n26              9.5  116969.0\n27              9.6  112635.0\n28             10.3  122391.0\n29             10.5  121872.0",
      "text/html": "<div>\n<style scoped>\n    .dataframe tbody tr th:only-of-type {\n        vertical-align: middle;\n    }\n\n    .dataframe tbody tr th {\n        vertical-align: top;\n    }\n\n    .dataframe thead th {\n        text-align: right;\n    }\n</style>\n<table border=\"1\" class=\"dataframe\">\n  <thead>\n    <tr style=\"text-align: right;\">\n      <th></th>\n      <th>YearsExperience</th>\n      <th>Salary</th>\n    </tr>\n  </thead>\n  <tbody>\n    <tr>\n      <th>0</th>\n      <td>1.1</td>\n      <td>39343.0</td>\n    </tr>\n    <tr>\n      <th>1</th>\n      <td>1.3</td>\n      <td>46205.0</td>\n    </tr>\n    <tr>\n      <th>2</th>\n      <td>1.5</td>\n      <td>37731.0</td>\n    </tr>\n    <tr>\n      <th>3</th>\n      <td>2.0</td>\n      <td>43525.0</td>\n    </tr>\n    <tr>\n      <th>4</th>\n      <td>2.2</td>\n      <td>39891.0</td>\n    </tr>\n    <tr>\n      <th>5</th>\n      <td>2.9</td>\n      <td>56642.0</td>\n    </tr>\n    <tr>\n      <th>6</th>\n      <td>3.0</td>\n      <td>60150.0</td>\n    </tr>\n    <tr>\n      <th>7</th>\n      <td>3.2</td>\n      <td>54445.0</td>\n    </tr>\n    <tr>\n      <th>8</th>\n      <td>3.2</td>\n      <td>64445.0</td>\n    </tr>\n    <tr>\n      <th>9</th>\n      <td>3.7</td>\n      <td>57189.0</td>\n    </tr>\n    <tr>\n      <th>10</th>\n      <td>3.9</td>\n      <td>63218.0</td>\n    </tr>\n    <tr>\n      <th>11</th>\n      <td>4.0</td>\n      <td>55794.0</td>\n    </tr>\n    <tr>\n      <th>12</th>\n      <td>4.0</td>\n      <td>56957.0</td>\n    </tr>\n    <tr>\n      <th>13</th>\n      <td>4.1</td>\n      <td>57081.0</td>\n    </tr>\n    <tr>\n      <th>14</th>\n      <td>4.5</td>\n      <td>61111.0</td>\n    </tr>\n    <tr>\n      <th>15</th>\n      <td>4.9</td>\n      <td>67938.0</td>\n    </tr>\n    <tr>\n      <th>16</th>\n      <td>5.1</td>\n      <td>66029.0</td>\n    </tr>\n    <tr>\n      <th>17</th>\n      <td>5.3</td>\n      <td>83088.0</td>\n    </tr>\n    <tr>\n      <th>18</th>\n      <td>5.9</td>\n      <td>81363.0</td>\n    </tr>\n    <tr>\n      <th>19</th>\n      <td>6.0</td>\n      <td>93940.0</td>\n    </tr>\n    <tr>\n      <th>20</th>\n      <td>6.8</td>\n      <td>91738.0</td>\n    </tr>\n    <tr>\n      <th>21</th>\n      <td>7.1</td>\n      <td>98273.0</td>\n    </tr>\n    <tr>\n      <th>22</th>\n      <td>7.9</td>\n      <td>101302.0</td>\n    </tr>\n    <tr>\n      <th>23</th>\n      <td>8.2</td>\n      <td>113812.0</td>\n    </tr>\n    <tr>\n      <th>24</th>\n      <td>8.7</td>\n      <td>109431.0</td>\n    </tr>\n    <tr>\n      <th>25</th>\n      <td>9.0</td>\n      <td>105582.0</td>\n    </tr>\n    <tr>\n      <th>26</th>\n      <td>9.5</td>\n      <td>116969.0</td>\n    </tr>\n    <tr>\n      <th>27</th>\n      <td>9.6</td>\n      <td>112635.0</td>\n    </tr>\n    <tr>\n      <th>28</th>\n      <td>10.3</td>\n      <td>122391.0</td>\n    </tr>\n    <tr>\n      <th>29</th>\n      <td>10.5</td>\n      <td>121872.0</td>\n    </tr>\n  </tbody>\n</table>\n</div>"
     },
     "execution_count": 2,
     "metadata": {},
     "output_type": "execute_result"
    }
   ],
   "source": [
    "import pandas as pd\n",
    "df = pd.read_csv(\"Salary_Data.csv\")\n",
    "df"
   ],
   "metadata": {
    "collapsed": false,
    "pycharm": {
     "name": "#%%\n"
    }
   }
  },
  {
   "cell_type": "code",
   "execution_count": 3,
   "outputs": [],
   "source": [
    "import numpy as np\n",
    "X = np.array(df['YearsExperience']).reshape(-1, 1)\n",
    "y = np.array(df['Salary']).reshape(-1, 1)"
   ],
   "metadata": {
    "collapsed": false,
    "pycharm": {
     "name": "#%%\n"
    }
   }
  },
  {
   "cell_type": "code",
   "execution_count": 4,
   "outputs": [],
   "source": [
    "from sklearn.model_selection import train_test_split\n",
    "X_train, X_test, y_train, y_test = train_test_split(X, y, train_size=0.9, random_state=42)"
   ],
   "metadata": {
    "collapsed": false,
    "pycharm": {
     "name": "#%%\n"
    }
   }
  },
  {
   "cell_type": "code",
   "execution_count": 5,
   "outputs": [],
   "source": [
    "from sklearn.linear_model import LinearRegression"
   ],
   "metadata": {
    "collapsed": false,
    "pycharm": {
     "name": "#%%\n"
    }
   }
  },
  {
   "cell_type": "code",
   "execution_count": 6,
   "outputs": [],
   "source": [
    "regr = LinearRegression()"
   ],
   "metadata": {
    "collapsed": false,
    "pycharm": {
     "name": "#%%\n"
    }
   }
  },
  {
   "cell_type": "code",
   "execution_count": 7,
   "outputs": [
    {
     "name": "stdout",
     "output_type": "stream",
     "text": [
      "0.8928775350863083\n"
     ]
    }
   ],
   "source": [
    "regr.fit(X_train, y_train)\n",
    "mlflow.sklearn.log_model(regr, \"regression model\")\n",
    "print(regr.score(X_test, y_test))"
   ],
   "metadata": {
    "collapsed": false,
    "pycharm": {
     "name": "#%%\n"
    }
   }
  },
  {
   "cell_type": "code",
   "execution_count": 8,
   "outputs": [
    {
     "data": {
      "text/plain": "42029.25070195537"
     },
     "execution_count": 8,
     "metadata": {},
     "output_type": "execute_result"
    }
   ],
   "source": [
    "y_pred = regr.predict(np.array(1.7).reshape(-1,1))\n",
    "y_pred[0][0]"
   ],
   "metadata": {
    "collapsed": false,
    "pycharm": {
     "name": "#%%\n"
    }
   }
  },
  {
   "cell_type": "code",
   "execution_count": 9,
   "outputs": [
    {
     "data": {
      "text/plain": "0.8928775350863083"
     },
     "execution_count": 9,
     "metadata": {},
     "output_type": "execute_result"
    }
   ],
   "source": [
    "import pickle\n",
    "filename = 'finalized_model.pkl'\n",
    "pickle.dump(regr, open(filename, 'wb'))\n",
    "\n",
    "loaded_model = pickle.load(open(filename, 'rb'))\n",
    "result = loaded_model.score(X_test, y_test)\n",
    "result"
   ],
   "metadata": {
    "collapsed": false,
    "pycharm": {
     "name": "#%%\n"
    }
   }
  },
  {
   "cell_type": "code",
   "execution_count": 30,
   "outputs": [],
   "source": [],
   "metadata": {
    "collapsed": false,
    "pycharm": {
     "name": "#%%\n"
    }
   }
  }
 ],
 "metadata": {
  "kernelspec": {
   "display_name": "Python 3",
   "language": "python",
   "name": "python3"
  },
  "language_info": {
   "codemirror_mode": {
    "name": "ipython",
    "version": 2
   },
   "file_extension": ".py",
   "mimetype": "text/x-python",
   "name": "python",
   "nbconvert_exporter": "python",
   "pygments_lexer": "ipython2",
   "version": "2.7.6"
  }
 },
 "nbformat": 4,
 "nbformat_minor": 0
}